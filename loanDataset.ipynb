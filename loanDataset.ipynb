{
 "cells": [
  {
   "cell_type": "markdown",
   "id": "bdf2cdb4",
   "metadata": {},
   "source": [
    "- Loan_ID --> Loan ID\n",
    "- Gender \n",
    "- Married Status\n",
    "- Dependents\n",
    "- Education (Graduate/UnderGraduate)\n",
    "- Self Employed\n",
    "- Applicant Income\n",
    "- co-aaplicant Income\n",
    "- LoanAmount\n",
    "- Loan_Amount_Term \n",
    "- Credit History\n",
    "- Property Area (Urban/Semi/ Rural)\n",
    "- Loan_Status (Loan Approved Y/N)"
   ]
  },
  {
   "cell_type": "code",
   "execution_count": 2,
   "id": "bb2d53c8",
   "metadata": {},
   "outputs": [],
   "source": [
    "import os\n",
    "import pandas as pd\n",
    "import numpy as np\n",
    "\n",
    "import matplotlib.pyplot as plt\n",
    "import seaborn as sns\n",
    "\n",
    "from sklearn.preprocessing import LabelEncoder\n",
    "from sklearn.model_selection import train_test_split\n",
    "from sklearn.metrics import confusion_matrix, classification_report, accuracy_score\n",
    "\n",
    "## Models\n",
    "\n",
    "from sklearn.naive_bayes import GaussianNB\n",
    "from sklearn.linear_model import LogisticRegression\n",
    "from sklearn import svm\n",
    "from sklearn.tree import DecisionTreeClassifier\n",
    "from sklearn.neighbors import KNeighborsClassifier\n",
    "from sklearn.ensemble import RandomForestClassifier, GradientBoostingClassifier\n",
    "from xgboost import XGBClassifier\n",
    "\n",
    "## Set theme\n",
    "sns.set(context = 'notebook', style = 'darkgrid', palette = 'deep', \\\n",
    "        font = 'sans-serif', font_scale = 1, color_codes = False, rc = None)"
   ]
  },
  {
   "cell_type": "code",
   "execution_count": 3,
   "id": "e532d0c5",
   "metadata": {},
   "outputs": [
    {
     "data": {
      "text/plain": [
       "['.ipynb_checkpoints',\n",
       " 'loanDataset.ipynb',\n",
       " 'test_Y3wMUE5_7gLdaTN.csv',\n",
       " 'train_u6lujuX_CVtuZ9i.csv']"
      ]
     },
     "execution_count": 3,
     "metadata": {},
     "output_type": "execute_result"
    }
   ],
   "source": [
    "import os\n",
    "os.listdir(\".\")"
   ]
  },
  {
   "cell_type": "code",
   "execution_count": 43,
   "id": "8132ef01",
   "metadata": {},
   "outputs": [
    {
     "data": {
      "text/html": [
       "<div>\n",
       "<style scoped>\n",
       "    .dataframe tbody tr th:only-of-type {\n",
       "        vertical-align: middle;\n",
       "    }\n",
       "\n",
       "    .dataframe tbody tr th {\n",
       "        vertical-align: top;\n",
       "    }\n",
       "\n",
       "    .dataframe thead th {\n",
       "        text-align: right;\n",
       "    }\n",
       "</style>\n",
       "<table border=\"1\" class=\"dataframe\">\n",
       "  <thead>\n",
       "    <tr style=\"text-align: right;\">\n",
       "      <th></th>\n",
       "      <th>Loan_ID</th>\n",
       "      <th>Gender</th>\n",
       "      <th>Married</th>\n",
       "      <th>Dependents</th>\n",
       "      <th>Education</th>\n",
       "      <th>Self_Employed</th>\n",
       "      <th>ApplicantIncome</th>\n",
       "      <th>CoapplicantIncome</th>\n",
       "      <th>LoanAmount</th>\n",
       "      <th>Loan_Amount_Term</th>\n",
       "      <th>Credit_History</th>\n",
       "      <th>Property_Area</th>\n",
       "      <th>Loan_Status</th>\n",
       "    </tr>\n",
       "  </thead>\n",
       "  <tbody>\n",
       "    <tr>\n",
       "      <th>0</th>\n",
       "      <td>LP001002</td>\n",
       "      <td>Male</td>\n",
       "      <td>No</td>\n",
       "      <td>0</td>\n",
       "      <td>Graduate</td>\n",
       "      <td>No</td>\n",
       "      <td>5849</td>\n",
       "      <td>0.0</td>\n",
       "      <td>NaN</td>\n",
       "      <td>360.0</td>\n",
       "      <td>1.0</td>\n",
       "      <td>Urban</td>\n",
       "      <td>Y</td>\n",
       "    </tr>\n",
       "    <tr>\n",
       "      <th>1</th>\n",
       "      <td>LP001003</td>\n",
       "      <td>Male</td>\n",
       "      <td>Yes</td>\n",
       "      <td>1</td>\n",
       "      <td>Graduate</td>\n",
       "      <td>No</td>\n",
       "      <td>4583</td>\n",
       "      <td>1508.0</td>\n",
       "      <td>128.0</td>\n",
       "      <td>360.0</td>\n",
       "      <td>1.0</td>\n",
       "      <td>Rural</td>\n",
       "      <td>N</td>\n",
       "    </tr>\n",
       "    <tr>\n",
       "      <th>2</th>\n",
       "      <td>LP001005</td>\n",
       "      <td>Male</td>\n",
       "      <td>Yes</td>\n",
       "      <td>0</td>\n",
       "      <td>Graduate</td>\n",
       "      <td>Yes</td>\n",
       "      <td>3000</td>\n",
       "      <td>0.0</td>\n",
       "      <td>66.0</td>\n",
       "      <td>360.0</td>\n",
       "      <td>1.0</td>\n",
       "      <td>Urban</td>\n",
       "      <td>Y</td>\n",
       "    </tr>\n",
       "    <tr>\n",
       "      <th>3</th>\n",
       "      <td>LP001006</td>\n",
       "      <td>Male</td>\n",
       "      <td>Yes</td>\n",
       "      <td>0</td>\n",
       "      <td>Not Graduate</td>\n",
       "      <td>No</td>\n",
       "      <td>2583</td>\n",
       "      <td>2358.0</td>\n",
       "      <td>120.0</td>\n",
       "      <td>360.0</td>\n",
       "      <td>1.0</td>\n",
       "      <td>Urban</td>\n",
       "      <td>Y</td>\n",
       "    </tr>\n",
       "    <tr>\n",
       "      <th>4</th>\n",
       "      <td>LP001008</td>\n",
       "      <td>Male</td>\n",
       "      <td>No</td>\n",
       "      <td>0</td>\n",
       "      <td>Graduate</td>\n",
       "      <td>No</td>\n",
       "      <td>6000</td>\n",
       "      <td>0.0</td>\n",
       "      <td>141.0</td>\n",
       "      <td>360.0</td>\n",
       "      <td>1.0</td>\n",
       "      <td>Urban</td>\n",
       "      <td>Y</td>\n",
       "    </tr>\n",
       "  </tbody>\n",
       "</table>\n",
       "</div>"
      ],
      "text/plain": [
       "    Loan_ID Gender Married Dependents     Education Self_Employed  \\\n",
       "0  LP001002   Male      No          0      Graduate            No   \n",
       "1  LP001003   Male     Yes          1      Graduate            No   \n",
       "2  LP001005   Male     Yes          0      Graduate           Yes   \n",
       "3  LP001006   Male     Yes          0  Not Graduate            No   \n",
       "4  LP001008   Male      No          0      Graduate            No   \n",
       "\n",
       "   ApplicantIncome  CoapplicantIncome  LoanAmount  Loan_Amount_Term  \\\n",
       "0             5849                0.0         NaN             360.0   \n",
       "1             4583             1508.0       128.0             360.0   \n",
       "2             3000                0.0        66.0             360.0   \n",
       "3             2583             2358.0       120.0             360.0   \n",
       "4             6000                0.0       141.0             360.0   \n",
       "\n",
       "   Credit_History Property_Area Loan_Status  \n",
       "0             1.0         Urban           Y  \n",
       "1             1.0         Rural           N  \n",
       "2             1.0         Urban           Y  \n",
       "3             1.0         Urban           Y  \n",
       "4             1.0         Urban           Y  "
      ]
     },
     "metadata": {},
     "output_type": "display_data"
    },
    {
     "data": {
      "text/html": [
       "<div>\n",
       "<style scoped>\n",
       "    .dataframe tbody tr th:only-of-type {\n",
       "        vertical-align: middle;\n",
       "    }\n",
       "\n",
       "    .dataframe tbody tr th {\n",
       "        vertical-align: top;\n",
       "    }\n",
       "\n",
       "    .dataframe thead th {\n",
       "        text-align: right;\n",
       "    }\n",
       "</style>\n",
       "<table border=\"1\" class=\"dataframe\">\n",
       "  <thead>\n",
       "    <tr style=\"text-align: right;\">\n",
       "      <th></th>\n",
       "      <th>Loan_ID</th>\n",
       "      <th>Gender</th>\n",
       "      <th>Married</th>\n",
       "      <th>Dependents</th>\n",
       "      <th>Education</th>\n",
       "      <th>Self_Employed</th>\n",
       "      <th>ApplicantIncome</th>\n",
       "      <th>CoapplicantIncome</th>\n",
       "      <th>LoanAmount</th>\n",
       "      <th>Loan_Amount_Term</th>\n",
       "      <th>Credit_History</th>\n",
       "      <th>Property_Area</th>\n",
       "    </tr>\n",
       "  </thead>\n",
       "  <tbody>\n",
       "    <tr>\n",
       "      <th>0</th>\n",
       "      <td>LP001015</td>\n",
       "      <td>Male</td>\n",
       "      <td>Yes</td>\n",
       "      <td>0</td>\n",
       "      <td>Graduate</td>\n",
       "      <td>No</td>\n",
       "      <td>5720</td>\n",
       "      <td>0</td>\n",
       "      <td>110.0</td>\n",
       "      <td>360.0</td>\n",
       "      <td>1.0</td>\n",
       "      <td>Urban</td>\n",
       "    </tr>\n",
       "    <tr>\n",
       "      <th>1</th>\n",
       "      <td>LP001022</td>\n",
       "      <td>Male</td>\n",
       "      <td>Yes</td>\n",
       "      <td>1</td>\n",
       "      <td>Graduate</td>\n",
       "      <td>No</td>\n",
       "      <td>3076</td>\n",
       "      <td>1500</td>\n",
       "      <td>126.0</td>\n",
       "      <td>360.0</td>\n",
       "      <td>1.0</td>\n",
       "      <td>Urban</td>\n",
       "    </tr>\n",
       "    <tr>\n",
       "      <th>2</th>\n",
       "      <td>LP001031</td>\n",
       "      <td>Male</td>\n",
       "      <td>Yes</td>\n",
       "      <td>2</td>\n",
       "      <td>Graduate</td>\n",
       "      <td>No</td>\n",
       "      <td>5000</td>\n",
       "      <td>1800</td>\n",
       "      <td>208.0</td>\n",
       "      <td>360.0</td>\n",
       "      <td>1.0</td>\n",
       "      <td>Urban</td>\n",
       "    </tr>\n",
       "    <tr>\n",
       "      <th>3</th>\n",
       "      <td>LP001035</td>\n",
       "      <td>Male</td>\n",
       "      <td>Yes</td>\n",
       "      <td>2</td>\n",
       "      <td>Graduate</td>\n",
       "      <td>No</td>\n",
       "      <td>2340</td>\n",
       "      <td>2546</td>\n",
       "      <td>100.0</td>\n",
       "      <td>360.0</td>\n",
       "      <td>NaN</td>\n",
       "      <td>Urban</td>\n",
       "    </tr>\n",
       "    <tr>\n",
       "      <th>4</th>\n",
       "      <td>LP001051</td>\n",
       "      <td>Male</td>\n",
       "      <td>No</td>\n",
       "      <td>0</td>\n",
       "      <td>Not Graduate</td>\n",
       "      <td>No</td>\n",
       "      <td>3276</td>\n",
       "      <td>0</td>\n",
       "      <td>78.0</td>\n",
       "      <td>360.0</td>\n",
       "      <td>1.0</td>\n",
       "      <td>Urban</td>\n",
       "    </tr>\n",
       "  </tbody>\n",
       "</table>\n",
       "</div>"
      ],
      "text/plain": [
       "    Loan_ID Gender Married Dependents     Education Self_Employed  \\\n",
       "0  LP001015   Male     Yes          0      Graduate            No   \n",
       "1  LP001022   Male     Yes          1      Graduate            No   \n",
       "2  LP001031   Male     Yes          2      Graduate            No   \n",
       "3  LP001035   Male     Yes          2      Graduate            No   \n",
       "4  LP001051   Male      No          0  Not Graduate            No   \n",
       "\n",
       "   ApplicantIncome  CoapplicantIncome  LoanAmount  Loan_Amount_Term  \\\n",
       "0             5720                  0       110.0             360.0   \n",
       "1             3076               1500       126.0             360.0   \n",
       "2             5000               1800       208.0             360.0   \n",
       "3             2340               2546       100.0             360.0   \n",
       "4             3276                  0        78.0             360.0   \n",
       "\n",
       "   Credit_History Property_Area  \n",
       "0             1.0         Urban  \n",
       "1             1.0         Urban  \n",
       "2             1.0         Urban  \n",
       "3             NaN         Urban  \n",
       "4             1.0         Urban  "
      ]
     },
     "metadata": {},
     "output_type": "display_data"
    }
   ],
   "source": [
    "tr_df = pd.read_csv(\"train_u6lujuX_CVtuZ9i.csv\")\n",
    "te_df = pd.read_csv(\"test_Y3wMUE5_7gLdaTN.csv\")\n",
    "display(tr_df.head())\n",
    "display(te_df.head())"
   ]
  },
  {
   "cell_type": "code",
   "execution_count": 7,
   "id": "836caee9",
   "metadata": {},
   "outputs": [
    {
     "name": "stdout",
     "output_type": "stream",
     "text": [
      "Training :(614, 13), Test: (367, 12)\n"
     ]
    }
   ],
   "source": [
    "print(\"Training :{}, Test: {}\".format(tr_df.shape, te_df.shape))"
   ]
  },
  {
   "cell_type": "code",
   "execution_count": 8,
   "id": "39ba730c",
   "metadata": {},
   "outputs": [
    {
     "name": "stdout",
     "output_type": "stream",
     "text": [
      "<class 'pandas.core.frame.DataFrame'>\n",
      "RangeIndex: 614 entries, 0 to 613\n",
      "Data columns (total 13 columns):\n",
      " #   Column             Non-Null Count  Dtype  \n",
      "---  ------             --------------  -----  \n",
      " 0   Loan_ID            614 non-null    object \n",
      " 1   Gender             601 non-null    object \n",
      " 2   Married            611 non-null    object \n",
      " 3   Dependents         599 non-null    object \n",
      " 4   Education          614 non-null    object \n",
      " 5   Self_Employed      582 non-null    object \n",
      " 6   ApplicantIncome    614 non-null    int64  \n",
      " 7   CoapplicantIncome  614 non-null    float64\n",
      " 8   LoanAmount         592 non-null    float64\n",
      " 9   Loan_Amount_Term   600 non-null    float64\n",
      " 10  Credit_History     564 non-null    float64\n",
      " 11  Property_Area      614 non-null    object \n",
      " 12  Loan_Status        614 non-null    object \n",
      "dtypes: float64(4), int64(1), object(8)\n",
      "memory usage: 62.5+ KB\n"
     ]
    }
   ],
   "source": [
    "tr_df.info()"
   ]
  },
  {
   "cell_type": "code",
   "execution_count": 44,
   "id": "37f710d0",
   "metadata": {},
   "outputs": [],
   "source": [
    "tr_df.drop(\"Loan_ID\", axis=1, inplace=True)\n",
    "te_df.drop(\"Loan_ID\", axis=1, inplace=True)"
   ]
  },
  {
   "cell_type": "code",
   "execution_count": 45,
   "id": "3d3a4095",
   "metadata": {},
   "outputs": [
    {
     "data": {
      "text/plain": [
       "Credit_History       50\n",
       "Self_Employed        32\n",
       "LoanAmount           22\n",
       "Dependents           15\n",
       "Loan_Amount_Term     14\n",
       "Gender               13\n",
       "Married               3\n",
       "Education             0\n",
       "ApplicantIncome       0\n",
       "CoapplicantIncome     0\n",
       "Property_Area         0\n",
       "Loan_Status           0\n",
       "dtype: int64"
      ]
     },
     "execution_count": 45,
     "metadata": {},
     "output_type": "execute_result"
    }
   ],
   "source": [
    "tr_df.isnull().sum().sort_values(ascending=False)"
   ]
  },
  {
   "cell_type": "code",
   "execution_count": 46,
   "id": "53cde93e",
   "metadata": {},
   "outputs": [],
   "source": [
    "null_mode = ['Credit_History','Self_Employed','Dependents','Gender','Loan_Amount_Term',\\\n",
    "            'Married','Education','Property_Area']\n",
    "null_median = ['LoanAmount']"
   ]
  },
  {
   "cell_type": "code",
   "execution_count": 47,
   "id": "00503b38",
   "metadata": {},
   "outputs": [],
   "source": [
    "for col in null_mode:\n",
    "    filled_by = tr_df[col].dropna().mode().values[0]\n",
    "    tr_df[col] = tr_df[col].fillna(filled_by)\n",
    "    te_df[col] = te_df[col].fillna(filled_by)"
   ]
  },
  {
   "cell_type": "code",
   "execution_count": 48,
   "id": "9ad283b1",
   "metadata": {},
   "outputs": [],
   "source": [
    "for col in null_median:\n",
    "    filled_by = tr_df['LoanAmount'].dropna().median()\n",
    "    tr_df[col] = tr_df[col].fillna(filled_by)\n",
    "    te_df[col] = te_df[col].fillna(filled_by)"
   ]
  },
  {
   "cell_type": "code",
   "execution_count": 49,
   "id": "a32d1174",
   "metadata": {},
   "outputs": [],
   "source": [
    "assert tr_df.isnull().sum().sum()==0\n",
    "assert te_df.isnull().sum().sum()==0"
   ]
  },
  {
   "cell_type": "code",
   "execution_count": 12,
   "id": "f3f0b033",
   "metadata": {},
   "outputs": [],
   "source": [
    "def get_vc(df,col):\n",
    "    print(\"COL: {}\".format(col))\n",
    "    display(df[col].value_counts())"
   ]
  },
  {
   "cell_type": "code",
   "execution_count": 28,
   "id": "44c7e713",
   "metadata": {},
   "outputs": [
    {
     "name": "stdout",
     "output_type": "stream",
     "text": [
      "COL: Property_Area\n"
     ]
    },
    {
     "data": {
      "text/plain": [
       "Semiurban    233\n",
       "Urban        202\n",
       "Rural        179\n",
       "Name: Property_Area, dtype: int64"
      ]
     },
     "metadata": {},
     "output_type": "display_data"
    }
   ],
   "source": [
    "get_vc(tr_df,'Property_Area')"
   ]
  },
  {
   "cell_type": "code",
   "execution_count": 14,
   "id": "052df12b",
   "metadata": {},
   "outputs": [
    {
     "name": "stdout",
     "output_type": "stream",
     "text": [
      "COL: Self_Employed\n"
     ]
    },
    {
     "data": {
      "text/plain": [
       "No     500\n",
       "Yes     82\n",
       "Name: Self_Employed, dtype: int64"
      ]
     },
     "metadata": {},
     "output_type": "display_data"
    }
   ],
   "source": [
    "get_vc(tr_df,'Self_Employed')"
   ]
  },
  {
   "cell_type": "code",
   "execution_count": 11,
   "id": "3550b109",
   "metadata": {},
   "outputs": [
    {
     "data": {
      "text/plain": [
       "1.0    475\n",
       "0.0     89\n",
       "Name: Credit_History, dtype: int64"
      ]
     },
     "execution_count": 11,
     "metadata": {},
     "output_type": "execute_result"
    }
   ],
   "source": [
    "tr_df['Credit_History'].value_counts()"
   ]
  },
  {
   "cell_type": "markdown",
   "id": "b1b54fdd",
   "metadata": {},
   "source": [
    "#### Data Vis"
   ]
  },
  {
   "cell_type": "markdown",
   "id": "8acbe47c",
   "metadata": {},
   "source": [
    "#### Loan Status Distribution"
   ]
  },
  {
   "cell_type": "code",
   "execution_count": 51,
   "id": "0c91bfb7",
   "metadata": {},
   "outputs": [],
   "source": [
    "num = tr_df.select_dtypes('number').columns.to_list()\n",
    "cat = tr_df.select_dtypes('object').columns.to_list()\n",
    "\n",
    "loan_num = tr_df[num]\n",
    "loan_cat = tr_df[cat]"
   ]
  },
  {
   "cell_type": "code",
   "execution_count": 55,
   "id": "73d5aacd",
   "metadata": {},
   "outputs": [
    {
     "name": "stderr",
     "output_type": "stream",
     "text": [
      "C:\\Users\\aakashgoel\\Anaconda3\\envs\\conda_env_1\\lib\\site-packages\\seaborn\\_decorators.py:36: FutureWarning: Pass the following variable as a keyword arg: x. From version 0.12, the only valid positional argument will be `data`, and passing other arguments without an explicit keyword will result in an error or misinterpretation.\n",
      "  warnings.warn(\n"
     ]
    },
    {
     "data": {
      "image/png": "[encoded data removed]",
      "text/plain": [
       "<Figure size 800x1000 with 1 Axes>"
      ]
     },
     "metadata": {},
     "output_type": "display_data"
    }
   ],
   "source": [
    "total = float(len(tr_df[cat[-1]]))\n",
    "plt.figure(figsize=(8,10))\n",
    "sns.set(style='whitegrid')\n",
    "ax = sns.countplot(tr_df[cat[-1]])\n",
    "for p in ax.patches:\n",
    "    height = p.get_height()\n",
    "    ax.text(p.get_x()+p.get_width()/2, height+3, '{:1.2f}'.format(height/total), ha = 'center')"
   ]
  },
  {
   "cell_type": "code",
   "execution_count": 56,
   "id": "98ab6c59",
   "metadata": {
    "scrolled": false
   },
   "outputs": [
    {
     "data": {
      "image/png": "[encoded data removed]",
      "text/plain": [
       "<Figure size 640x480 with 1 Axes>"
      ]
     },
     "metadata": {},
     "output_type": "display_data"
    },
    {
     "data": {
      "image/png": "[encoded data removed]",
      "text/plain": [
       "<Figure size 640x480 with 1 Axes>"
      ]
     },
     "metadata": {},
     "output_type": "display_data"
    },
    {
     "data": {
      "image/png": "[encoded data removed]",
      "text/plain": [
       "<Figure size 640x480 with 1 Axes>"
      ]
     },
     "metadata": {},
     "output_type": "display_data"
    },
    {
     "data": {
      "image/png": "[encoded data removed]",
      "text/plain": [
       "<Figure size 640x480 with 1 Axes>"
      ]
     },
     "metadata": {},
     "output_type": "display_data"
    },
    {
     "data": {
      "image/png": "[encoded data removed]",
      "text/plain": [
       "<Figure size 640x480 with 1 Axes>"
      ]
     },
     "metadata": {},
     "output_type": "display_data"
    }
   ],
   "source": [
    "for i in loan_num:\n",
    "    plt.hist(loan_num[i])\n",
    "    plt.title(i)\n",
    "    plt.show()"
   ]
  },
  {
   "cell_type": "code",
   "execution_count": 59,
   "id": "a7466ce4",
   "metadata": {
    "scrolled": false
   },
   "outputs": [
    {
     "data": {
      "image/png": "[encoded data removed]",
      "text/plain": [
       "<Figure size 1500x1000 with 1 Axes>"
      ]
     },
     "metadata": {},
     "output_type": "display_data"
    },
    {
     "data": {
      "image/png": "[encoded data removed]",
      "text/plain": [
       "<Figure size 1500x1000 with 1 Axes>"
      ]
     },
     "metadata": {},
     "output_type": "display_data"
    },
    {
     "data": {
      "image/png": "[encoded data removed]",
      "text/plain": [
       "<Figure size 1500x1000 with 1 Axes>"
      ]
     },
     "metadata": {},
     "output_type": "display_data"
    },
    {
     "data": {
      "image/png": "[encoded data removed]",
      "text/plain": [
       "<Figure size 1500x1000 with 1 Axes>"
      ]
     },
     "metadata": {},
     "output_type": "display_data"
    },
    {
     "data": {
      "image/png": "[encoded data removed]",
      "text/plain": [
       "<Figure size 1500x1000 with 1 Axes>"
      ]
     },
     "metadata": {},
     "output_type": "display_data"
    },
    {
     "data": {
      "image/png": "[encoded data removed]",
      "text/plain": [
       "<Figure size 1500x1000 with 1 Axes>"
      ]
     },
     "metadata": {},
     "output_type": "display_data"
    }
   ],
   "source": [
    "for i in cat[:-1]:\n",
    "    plt.figure(figsize=(15,10))\n",
    "    plt.subplot(2,3,1)\n",
    "    sns.countplot(x = i, hue='Loan_Status',data=tr_df, palette='plasma')"
   ]
  },
  {
   "cell_type": "markdown",
   "id": "4f33822c",
   "metadata": {},
   "source": [
    "### Data Encoding"
   ]
  },
  {
   "cell_type": "code",
   "execution_count": 60,
   "id": "ff2f4216",
   "metadata": {},
   "outputs": [],
   "source": [
    "to_numeric = {\"Male\":1, \"Female\":2,\\\n",
    "             \"Yes\":1,\"No\":2,\\\n",
    "             \"Graduate\":1, \"Not Graduate\":2,\\\n",
    "             \"Urban\":3,\"Semiurban\":2, \"Rural\":1,\\\n",
    "             \"Y\":1, \"N\":0,\\\n",
    "             \"3+\":3}"
   ]
  },
  {
   "cell_type": "code",
   "execution_count": 62,
   "id": "5ae13398",
   "metadata": {},
   "outputs": [],
   "source": [
    "tr_df = tr_df.applymap(lambda label: to_numeric.get(label) if label in to_numeric else label)\n",
    "te_df = te_df.applymap(lambda label: to_numeric.get(label) if label in to_numeric else label)"
   ]
  },
  {
   "cell_type": "code",
   "execution_count": 64,
   "id": "96d2f042",
   "metadata": {},
   "outputs": [
    {
     "data": {
      "text/html": [
       "<div>\n",
       "<style scoped>\n",
       "    .dataframe tbody tr th:only-of-type {\n",
       "        vertical-align: middle;\n",
       "    }\n",
       "\n",
       "    .dataframe tbody tr th {\n",
       "        vertical-align: top;\n",
       "    }\n",
       "\n",
       "    .dataframe thead th {\n",
       "        text-align: right;\n",
       "    }\n",
       "</style>\n",
       "<table border=\"1\" class=\"dataframe\">\n",
       "  <thead>\n",
       "    <tr style=\"text-align: right;\">\n",
       "      <th></th>\n",
       "      <th>Gender</th>\n",
       "      <th>Married</th>\n",
       "      <th>Dependents</th>\n",
       "      <th>Education</th>\n",
       "      <th>Self_Employed</th>\n",
       "      <th>ApplicantIncome</th>\n",
       "      <th>CoapplicantIncome</th>\n",
       "      <th>LoanAmount</th>\n",
       "      <th>Loan_Amount_Term</th>\n",
       "      <th>Credit_History</th>\n",
       "      <th>Property_Area</th>\n",
       "      <th>Loan_Status</th>\n",
       "    </tr>\n",
       "  </thead>\n",
       "  <tbody>\n",
       "    <tr>\n",
       "      <th>0</th>\n",
       "      <td>1</td>\n",
       "      <td>2</td>\n",
       "      <td>0</td>\n",
       "      <td>1</td>\n",
       "      <td>2</td>\n",
       "      <td>5849</td>\n",
       "      <td>0.0</td>\n",
       "      <td>128.0</td>\n",
       "      <td>360.0</td>\n",
       "      <td>1.0</td>\n",
       "      <td>3</td>\n",
       "      <td>1</td>\n",
       "    </tr>\n",
       "    <tr>\n",
       "      <th>1</th>\n",
       "      <td>1</td>\n",
       "      <td>1</td>\n",
       "      <td>1</td>\n",
       "      <td>1</td>\n",
       "      <td>2</td>\n",
       "      <td>4583</td>\n",
       "      <td>1508.0</td>\n",
       "      <td>128.0</td>\n",
       "      <td>360.0</td>\n",
       "      <td>1.0</td>\n",
       "      <td>1</td>\n",
       "      <td>0</td>\n",
       "    </tr>\n",
       "  </tbody>\n",
       "</table>\n",
       "</div>"
      ],
      "text/plain": [
       "   Gender  Married Dependents  Education  Self_Employed  ApplicantIncome  \\\n",
       "0       1        2          0          1              2             5849   \n",
       "1       1        1          1          1              2             4583   \n",
       "\n",
       "   CoapplicantIncome  LoanAmount  Loan_Amount_Term  Credit_History  \\\n",
       "0                0.0       128.0             360.0             1.0   \n",
       "1             1508.0       128.0             360.0             1.0   \n",
       "\n",
       "   Property_Area  Loan_Status  \n",
       "0              3            1  \n",
       "1              1            0  "
      ]
     },
     "execution_count": 64,
     "metadata": {},
     "output_type": "execute_result"
    }
   ],
   "source": [
    "tr_df.head(2)"
   ]
  },
  {
   "cell_type": "code",
   "execution_count": 66,
   "id": "c1c2ba99",
   "metadata": {},
   "outputs": [],
   "source": [
    "tr_df['Dependents'] =  pd.to_numeric(tr_df.Dependents)\n",
    "te_df['Dependents'] =  pd.to_numeric(te_df.Dependents)"
   ]
  },
  {
   "cell_type": "code",
   "execution_count": 68,
   "id": "69ec0a96",
   "metadata": {},
   "outputs": [
    {
     "name": "stdout",
     "output_type": "stream",
     "text": [
      "<class 'pandas.core.frame.DataFrame'>\n",
      "RangeIndex: 367 entries, 0 to 366\n",
      "Data columns (total 11 columns):\n",
      " #   Column             Non-Null Count  Dtype  \n",
      "---  ------             --------------  -----  \n",
      " 0   Gender             367 non-null    int64  \n",
      " 1   Married            367 non-null    int64  \n",
      " 2   Dependents         367 non-null    int64  \n",
      " 3   Education          367 non-null    int64  \n",
      " 4   Self_Employed      367 non-null    int64  \n",
      " 5   ApplicantIncome    367 non-null    int64  \n",
      " 6   CoapplicantIncome  367 non-null    int64  \n",
      " 7   LoanAmount         367 non-null    float64\n",
      " 8   Loan_Amount_Term   367 non-null    float64\n",
      " 9   Credit_History     367 non-null    float64\n",
      " 10  Property_Area      367 non-null    int64  \n",
      "dtypes: float64(3), int64(8)\n",
      "memory usage: 31.7 KB\n"
     ]
    }
   ],
   "source": [
    "te_df.info()"
   ]
  },
  {
   "cell_type": "code",
   "execution_count": 69,
   "id": "7272c2f4",
   "metadata": {},
   "outputs": [
    {
     "data": {
      "text/plain": [
       "<AxesSubplot:>"
      ]
     },
     "execution_count": 69,
     "metadata": {},
     "output_type": "execute_result"
    },
    {
     "data": {
      "image/png": "[encoded data removed]",
      "text/plain": [
       "<Figure size 640x480 with 2 Axes>"
      ]
     },
     "metadata": {},
     "output_type": "display_data"
    }
   ],
   "source": [
    "sns.heatmap(tr_df.corr(), cmap = 'cubehelix_r')"
   ]
  },
  {
   "cell_type": "code",
   "execution_count": 70,
   "id": "673e3c0d",
   "metadata": {
    "scrolled": false
   },
   "outputs": [
    {
     "name": "stderr",
     "output_type": "stream",
     "text": [
      "C:\\Users\\aakashgoel\\AppData\\Local\\Temp\\ipykernel_49668\\4251024305.py:2: FutureWarning: this method is deprecated in favour of `Styler.format(precision=..)`\n",
      "  corr.style.background_gradient(cmap = \"coolwarm\").set_precision(2)\n"
     ]
    },
    {
     "data": {
      "text/html": [
       "<style type=\"text/css\">\n",
       "#T_285de_row0_col0, #T_285de_row1_col1, #T_285de_row2_col2, #T_285de_row3_col3, #T_285de_row4_col4, #T_285de_row5_col5, #T_285de_row6_col6, #T_285de_row7_col7, #T_285de_row8_col8, #T_285de_row9_col9, #T_285de_row10_col10, #T_285de_row11_col11 {\n",
       "  background-color: #b40426;\n",
       "  color: #f1f1f1;\n",
       "}\n",
       "#T_285de_row0_col1 {\n",
       "  background-color: #e3d9d3;\n",
       "  color: #000000;\n",
       "}\n",
       "#T_285de_row0_col2, #T_285de_row4_col6, #T_285de_row11_col5 {\n",
       "  background-color: #5f7fe8;\n",
       "  color: #f1f1f1;\n",
       "}\n",
       "#T_285de_row0_col3, #T_285de_row3_col0, #T_285de_row9_col5 {\n",
       "  background-color: #5b7ae5;\n",
       "  color: #f1f1f1;\n",
       "}\n",
       "#T_285de_row0_col4, #T_285de_row10_col11 {\n",
       "  background-color: #5d7ce6;\n",
       "  color: #f1f1f1;\n",
       "}\n",
       "#T_285de_row0_col5, #T_285de_row2_col10, #T_285de_row9_col10, #T_285de_row10_col9, #T_285de_row11_col3, #T_285de_row11_col8 {\n",
       "  background-color: #506bda;\n",
       "  color: #f1f1f1;\n",
       "}\n",
       "#T_285de_row0_col6, #T_285de_row2_col9, #T_285de_row6_col11, #T_285de_row7_col10 {\n",
       "  background-color: #4358cb;\n",
       "  color: #f1f1f1;\n",
       "}\n",
       "#T_285de_row0_col7, #T_285de_row5_col8, #T_285de_row5_col9, #T_285de_row7_col11, #T_285de_row8_col6, #T_285de_row11_col6 {\n",
       "  background-color: #4a63d3;\n",
       "  color: #f1f1f1;\n",
       "}\n",
       "#T_285de_row0_col8 {\n",
       "  background-color: #6e90f2;\n",
       "  color: #f1f1f1;\n",
       "}\n",
       "#T_285de_row0_col9, #T_285de_row2_col4, #T_285de_row5_col10 {\n",
       "  background-color: #4c66d6;\n",
       "  color: #f1f1f1;\n",
       "}\n",
       "#T_285de_row0_col10, #T_285de_row5_col0 {\n",
       "  background-color: #5875e1;\n",
       "  color: #f1f1f1;\n",
       "}\n",
       "#T_285de_row0_col11, #T_285de_row1_col10, #T_285de_row4_col9, #T_285de_row7_col9 {\n",
       "  background-color: #4f69d9;\n",
       "  color: #f1f1f1;\n",
       "}\n",
       "#T_285de_row1_col0 {\n",
       "  background-color: #d2dbe8;\n",
       "  color: #000000;\n",
       "}\n",
       "#T_285de_row1_col2, #T_285de_row1_col11, #T_285de_row2_col0, #T_285de_row2_col1, #T_285de_row2_col8, #T_285de_row3_col5, #T_285de_row3_col7, #T_285de_row3_col9, #T_285de_row5_col4, #T_285de_row5_col6, #T_285de_row7_col3, #T_285de_row8_col10 {\n",
       "  background-color: #3b4cc0;\n",
       "  color: #f1f1f1;\n",
       "}\n",
       "#T_285de_row1_col3 {\n",
       "  background-color: #6485ec;\n",
       "  color: #f1f1f1;\n",
       "}\n",
       "#T_285de_row1_col4, #T_285de_row9_col4, #T_285de_row9_col6, #T_285de_row10_col5, #T_285de_row10_col6, #T_285de_row11_col4, #T_285de_row11_col7 {\n",
       "  background-color: #5e7de7;\n",
       "  color: #f1f1f1;\n",
       "}\n",
       "#T_285de_row1_col5, #T_285de_row6_col0 {\n",
       "  background-color: #516ddb;\n",
       "  color: #f1f1f1;\n",
       "}\n",
       "#T_285de_row1_col6 {\n",
       "  background-color: #455cce;\n",
       "  color: #f1f1f1;\n",
       "}\n",
       "#T_285de_row1_col7 {\n",
       "  background-color: #3f53c6;\n",
       "  color: #f1f1f1;\n",
       "}\n",
       "#T_285de_row1_col8 {\n",
       "  background-color: #7699f6;\n",
       "  color: #f1f1f1;\n",
       "}\n",
       "#T_285de_row1_col9, #T_285de_row7_col0 {\n",
       "  background-color: #4b64d5;\n",
       "  color: #f1f1f1;\n",
       "}\n",
       "#T_285de_row2_col3, #T_285de_row6_col1 {\n",
       "  background-color: #799cf8;\n",
       "  color: #f1f1f1;\n",
       "}\n",
       "#T_285de_row2_col5 {\n",
       "  background-color: #85a8fc;\n",
       "  color: #f1f1f1;\n",
       "}\n",
       "#T_285de_row2_col6, #T_285de_row11_col0 {\n",
       "  background-color: #6384eb;\n",
       "  color: #f1f1f1;\n",
       "}\n",
       "#T_285de_row2_col7 {\n",
       "  background-color: #98b9ff;\n",
       "  color: #000000;\n",
       "}\n",
       "#T_285de_row2_col11, #T_285de_row6_col3 {\n",
       "  background-color: #5673e0;\n",
       "  color: #f1f1f1;\n",
       "}\n",
       "#T_285de_row3_col1 {\n",
       "  background-color: #89acfd;\n",
       "  color: #000000;\n",
       "}\n",
       "#T_285de_row3_col2 {\n",
       "  background-color: #9bbcff;\n",
       "  color: #000000;\n",
       "}\n",
       "#T_285de_row3_col4, #T_285de_row4_col8 {\n",
       "  background-color: #6180e9;\n",
       "  color: #f1f1f1;\n",
       "}\n",
       "#T_285de_row3_col6 {\n",
       "  background-color: #4961d2;\n",
       "  color: #f1f1f1;\n",
       "}\n",
       "#T_285de_row3_col8, #T_285de_row5_col3, #T_285de_row10_col8 {\n",
       "  background-color: #4257c9;\n",
       "  color: #f1f1f1;\n",
       "}\n",
       "#T_285de_row3_col10, #T_285de_row7_col4 {\n",
       "  background-color: #3d50c3;\n",
       "  color: #f1f1f1;\n",
       "}\n",
       "#T_285de_row3_col11 {\n",
       "  background-color: #3c4ec2;\n",
       "  color: #f1f1f1;\n",
       "}\n",
       "#T_285de_row4_col0 {\n",
       "  background-color: #688aef;\n",
       "  color: #f1f1f1;\n",
       "}\n",
       "#T_285de_row4_col1, #T_285de_row10_col2 {\n",
       "  background-color: #8db0fe;\n",
       "  color: #000000;\n",
       "}\n",
       "#T_285de_row4_col2, #T_285de_row8_col0 {\n",
       "  background-color: #7ea1fa;\n",
       "  color: #f1f1f1;\n",
       "}\n",
       "#T_285de_row4_col3 {\n",
       "  background-color: #6b8df0;\n",
       "  color: #f1f1f1;\n",
       "}\n",
       "#T_285de_row4_col5 {\n",
       "  background-color: #3e51c5;\n",
       "  color: #f1f1f1;\n",
       "}\n",
       "#T_285de_row4_col7 {\n",
       "  background-color: #485fd1;\n",
       "  color: #f1f1f1;\n",
       "}\n",
       "#T_285de_row4_col10, #T_285de_row11_col10 {\n",
       "  background-color: #5977e3;\n",
       "  color: #f1f1f1;\n",
       "}\n",
       "#T_285de_row4_col11, #T_285de_row9_col8, #T_285de_row10_col3 {\n",
       "  background-color: #5572df;\n",
       "  color: #f1f1f1;\n",
       "}\n",
       "#T_285de_row5_col1 {\n",
       "  background-color: #80a3fa;\n",
       "  color: #f1f1f1;\n",
       "}\n",
       "#T_285de_row5_col2 {\n",
       "  background-color: #abc8fd;\n",
       "  color: #000000;\n",
       "}\n",
       "#T_285de_row5_col7 {\n",
       "  background-color: #f5c4ac;\n",
       "  color: #000000;\n",
       "}\n",
       "#T_285de_row5_col11, #T_285de_row6_col9, #T_285de_row6_col10, #T_285de_row8_col3, #T_285de_row9_col3 {\n",
       "  background-color: #536edd;\n",
       "  color: #f1f1f1;\n",
       "}\n",
       "#T_285de_row6_col2 {\n",
       "  background-color: #94b6ff;\n",
       "  color: #000000;\n",
       "}\n",
       "#T_285de_row6_col4, #T_285de_row7_col8 {\n",
       "  background-color: #6282ea;\n",
       "  color: #f1f1f1;\n",
       "}\n",
       "#T_285de_row6_col5 {\n",
       "  background-color: #4055c8;\n",
       "  color: #f1f1f1;\n",
       "}\n",
       "#T_285de_row6_col7 {\n",
       "  background-color: #a1c0ff;\n",
       "  color: #000000;\n",
       "}\n",
       "#T_285de_row6_col8 {\n",
       "  background-color: #465ecf;\n",
       "  color: #f1f1f1;\n",
       "}\n",
       "#T_285de_row7_col1, #T_285de_row8_col4, #T_285de_row9_col7 {\n",
       "  background-color: #6788ee;\n",
       "  color: #f1f1f1;\n",
       "}\n",
       "#T_285de_row7_col2 {\n",
       "  background-color: #b7cff9;\n",
       "  color: #000000;\n",
       "}\n",
       "#T_285de_row7_col5 {\n",
       "  background-color: #f4c6af;\n",
       "  color: #000000;\n",
       "}\n",
       "#T_285de_row7_col6 {\n",
       "  background-color: #96b7ff;\n",
       "  color: #000000;\n",
       "}\n",
       "#T_285de_row8_col1 {\n",
       "  background-color: #a7c5fe;\n",
       "  color: #000000;\n",
       "}\n",
       "#T_285de_row8_col2 {\n",
       "  background-color: #7295f4;\n",
       "  color: #f1f1f1;\n",
       "}\n",
       "#T_285de_row8_col5 {\n",
       "  background-color: #5470de;\n",
       "  color: #f1f1f1;\n",
       "}\n",
       "#T_285de_row8_col7 {\n",
       "  background-color: #7396f5;\n",
       "  color: #f1f1f1;\n",
       "}\n",
       "#T_285de_row8_col9, #T_285de_row8_col11 {\n",
       "  background-color: #4e68d8;\n",
       "  color: #f1f1f1;\n",
       "}\n",
       "#T_285de_row9_col0, #T_285de_row10_col4 {\n",
       "  background-color: #6687ed;\n",
       "  color: #f1f1f1;\n",
       "}\n",
       "#T_285de_row9_col1 {\n",
       "  background-color: #8badfd;\n",
       "  color: #000000;\n",
       "}\n",
       "#T_285de_row9_col2 {\n",
       "  background-color: #82a6fb;\n",
       "  color: #f1f1f1;\n",
       "}\n",
       "#T_285de_row9_col11 {\n",
       "  background-color: #efcfbf;\n",
       "  color: #000000;\n",
       "}\n",
       "#T_285de_row10_col0 {\n",
       "  background-color: #7093f3;\n",
       "  color: #f1f1f1;\n",
       "}\n",
       "#T_285de_row10_col1 {\n",
       "  background-color: #8caffe;\n",
       "  color: #000000;\n",
       "}\n",
       "#T_285de_row10_col7 {\n",
       "  background-color: #5a78e4;\n",
       "  color: #f1f1f1;\n",
       "}\n",
       "#T_285de_row11_col1 {\n",
       "  background-color: #7597f6;\n",
       "  color: #f1f1f1;\n",
       "}\n",
       "#T_285de_row11_col2 {\n",
       "  background-color: #90b2fe;\n",
       "  color: #000000;\n",
       "}\n",
       "#T_285de_row11_col9 {\n",
       "  background-color: #edd1c2;\n",
       "  color: #000000;\n",
       "}\n",
       "</style>\n",
       "<table id=\"T_285de\">\n",
       "  <thead>\n",
       "    <tr>\n",
       "      <th class=\"blank level0\" >&nbsp;</th>\n",
       "      <th id=\"T_285de_level0_col0\" class=\"col_heading level0 col0\" >Gender</th>\n",
       "      <th id=\"T_285de_level0_col1\" class=\"col_heading level0 col1\" >Married</th>\n",
       "      <th id=\"T_285de_level0_col2\" class=\"col_heading level0 col2\" >Dependents</th>\n",
       "      <th id=\"T_285de_level0_col3\" class=\"col_heading level0 col3\" >Education</th>\n",
       "      <th id=\"T_285de_level0_col4\" class=\"col_heading level0 col4\" >Self_Employed</th>\n",
       "      <th id=\"T_285de_level0_col5\" class=\"col_heading level0 col5\" >ApplicantIncome</th>\n",
       "      <th id=\"T_285de_level0_col6\" class=\"col_heading level0 col6\" >CoapplicantIncome</th>\n",
       "      <th id=\"T_285de_level0_col7\" class=\"col_heading level0 col7\" >LoanAmount</th>\n",
       "      <th id=\"T_285de_level0_col8\" class=\"col_heading level0 col8\" >Loan_Amount_Term</th>\n",
       "      <th id=\"T_285de_level0_col9\" class=\"col_heading level0 col9\" >Credit_History</th>\n",
       "      <th id=\"T_285de_level0_col10\" class=\"col_heading level0 col10\" >Property_Area</th>\n",
       "      <th id=\"T_285de_level0_col11\" class=\"col_heading level0 col11\" >Loan_Status</th>\n",
       "    </tr>\n",
       "  </thead>\n",
       "  <tbody>\n",
       "    <tr>\n",
       "      <th id=\"T_285de_level0_row0\" class=\"row_heading level0 row0\" >Gender</th>\n",
       "      <td id=\"T_285de_row0_col0\" class=\"data row0 col0\" >1.00</td>\n",
       "      <td id=\"T_285de_row0_col1\" class=\"data row0 col1\" >0.36</td>\n",
       "      <td id=\"T_285de_row0_col2\" class=\"data row0 col2\" >-0.17</td>\n",
       "      <td id=\"T_285de_row0_col3\" class=\"data row0 col3\" >-0.05</td>\n",
       "      <td id=\"T_285de_row0_col4\" class=\"data row0 col4\" >-0.00</td>\n",
       "      <td id=\"T_285de_row0_col5\" class=\"data row0 col5\" >-0.06</td>\n",
       "      <td id=\"T_285de_row0_col6\" class=\"data row0 col6\" >-0.08</td>\n",
       "      <td id=\"T_285de_row0_col7\" class=\"data row0 col7\" >-0.11</td>\n",
       "      <td id=\"T_285de_row0_col8\" class=\"data row0 col8\" >0.07</td>\n",
       "      <td id=\"T_285de_row0_col9\" class=\"data row0 col9\" >-0.01</td>\n",
       "      <td id=\"T_285de_row0_col10\" class=\"data row0 col10\" >0.03</td>\n",
       "      <td id=\"T_285de_row0_col11\" class=\"data row0 col11\" >-0.02</td>\n",
       "    </tr>\n",
       "    <tr>\n",
       "      <th id=\"T_285de_level0_row1\" class=\"row_heading level0 row1\" >Married</th>\n",
       "      <td id=\"T_285de_row1_col0\" class=\"data row1 col0\" >0.36</td>\n",
       "      <td id=\"T_285de_row1_col1\" class=\"data row1 col1\" >1.00</td>\n",
       "      <td id=\"T_285de_row1_col2\" class=\"data row1 col2\" >-0.33</td>\n",
       "      <td id=\"T_285de_row1_col3\" class=\"data row1 col3\" >-0.01</td>\n",
       "      <td id=\"T_285de_row1_col4\" class=\"data row1 col4\" >0.00</td>\n",
       "      <td id=\"T_285de_row1_col5\" class=\"data row1 col5\" >-0.05</td>\n",
       "      <td id=\"T_285de_row1_col6\" class=\"data row1 col6\" >-0.08</td>\n",
       "      <td id=\"T_285de_row1_col7\" class=\"data row1 col7\" >-0.15</td>\n",
       "      <td id=\"T_285de_row1_col8\" class=\"data row1 col8\" >0.10</td>\n",
       "      <td id=\"T_285de_row1_col9\" class=\"data row1 col9\" >-0.01</td>\n",
       "      <td id=\"T_285de_row1_col10\" class=\"data row1 col10\" >-0.00</td>\n",
       "      <td id=\"T_285de_row1_col11\" class=\"data row1 col11\" >-0.09</td>\n",
       "    </tr>\n",
       "    <tr>\n",
       "      <th id=\"T_285de_level0_row2\" class=\"row_heading level0 row2\" >Dependents</th>\n",
       "      <td id=\"T_285de_row2_col0\" class=\"data row2 col0\" >-0.17</td>\n",
       "      <td id=\"T_285de_row2_col1\" class=\"data row2 col1\" >-0.33</td>\n",
       "      <td id=\"T_285de_row2_col2\" class=\"data row2 col2\" >1.00</td>\n",
       "      <td id=\"T_285de_row2_col3\" class=\"data row2 col3\" >0.06</td>\n",
       "      <td id=\"T_285de_row2_col4\" class=\"data row2 col4\" >-0.06</td>\n",
       "      <td id=\"T_285de_row2_col5\" class=\"data row2 col5\" >0.12</td>\n",
       "      <td id=\"T_285de_row2_col6\" class=\"data row2 col6\" >0.03</td>\n",
       "      <td id=\"T_285de_row2_col7\" class=\"data row2 col7\" >0.16</td>\n",
       "      <td id=\"T_285de_row2_col8\" class=\"data row2 col8\" >-0.10</td>\n",
       "      <td id=\"T_285de_row2_col9\" class=\"data row2 col9\" >-0.04</td>\n",
       "      <td id=\"T_285de_row2_col10\" class=\"data row2 col10\" >-0.00</td>\n",
       "      <td id=\"T_285de_row2_col11\" class=\"data row2 col11\" >0.01</td>\n",
       "    </tr>\n",
       "    <tr>\n",
       "      <th id=\"T_285de_level0_row3\" class=\"row_heading level0 row3\" >Education</th>\n",
       "      <td id=\"T_285de_row3_col0\" class=\"data row3 col0\" >-0.05</td>\n",
       "      <td id=\"T_285de_row3_col1\" class=\"data row3 col1\" >-0.01</td>\n",
       "      <td id=\"T_285de_row3_col2\" class=\"data row3 col2\" >0.06</td>\n",
       "      <td id=\"T_285de_row3_col3\" class=\"data row3 col3\" >1.00</td>\n",
       "      <td id=\"T_285de_row3_col4\" class=\"data row3 col4\" >0.01</td>\n",
       "      <td id=\"T_285de_row3_col5\" class=\"data row3 col5\" >-0.14</td>\n",
       "      <td id=\"T_285de_row3_col6\" class=\"data row3 col6\" >-0.06</td>\n",
       "      <td id=\"T_285de_row3_col7\" class=\"data row3 col7\" >-0.17</td>\n",
       "      <td id=\"T_285de_row3_col8\" class=\"data row3 col8\" >-0.07</td>\n",
       "      <td id=\"T_285de_row3_col9\" class=\"data row3 col9\" >-0.07</td>\n",
       "      <td id=\"T_285de_row3_col10\" class=\"data row3 col10\" >-0.07</td>\n",
       "      <td id=\"T_285de_row3_col11\" class=\"data row3 col11\" >-0.09</td>\n",
       "    </tr>\n",
       "    <tr>\n",
       "      <th id=\"T_285de_level0_row4\" class=\"row_heading level0 row4\" >Self_Employed</th>\n",
       "      <td id=\"T_285de_row4_col0\" class=\"data row4 col0\" >-0.00</td>\n",
       "      <td id=\"T_285de_row4_col1\" class=\"data row4 col1\" >0.00</td>\n",
       "      <td id=\"T_285de_row4_col2\" class=\"data row4 col2\" >-0.06</td>\n",
       "      <td id=\"T_285de_row4_col3\" class=\"data row4 col3\" >0.01</td>\n",
       "      <td id=\"T_285de_row4_col4\" class=\"data row4 col4\" >1.00</td>\n",
       "      <td id=\"T_285de_row4_col5\" class=\"data row4 col5\" >-0.13</td>\n",
       "      <td id=\"T_285de_row4_col6\" class=\"data row4 col6\" >0.02</td>\n",
       "      <td id=\"T_285de_row4_col7\" class=\"data row4 col7\" >-0.12</td>\n",
       "      <td id=\"T_285de_row4_col8\" class=\"data row4 col8\" >0.03</td>\n",
       "      <td id=\"T_285de_row4_col9\" class=\"data row4 col9\" >0.00</td>\n",
       "      <td id=\"T_285de_row4_col10\" class=\"data row4 col10\" >0.03</td>\n",
       "      <td id=\"T_285de_row4_col11\" class=\"data row4 col11\" >0.00</td>\n",
       "    </tr>\n",
       "    <tr>\n",
       "      <th id=\"T_285de_level0_row5\" class=\"row_heading level0 row5\" >ApplicantIncome</th>\n",
       "      <td id=\"T_285de_row5_col0\" class=\"data row5 col0\" >-0.06</td>\n",
       "      <td id=\"T_285de_row5_col1\" class=\"data row5 col1\" >-0.05</td>\n",
       "      <td id=\"T_285de_row5_col2\" class=\"data row5 col2\" >0.12</td>\n",
       "      <td id=\"T_285de_row5_col3\" class=\"data row5 col3\" >-0.14</td>\n",
       "      <td id=\"T_285de_row5_col4\" class=\"data row5 col4\" >-0.13</td>\n",
       "      <td id=\"T_285de_row5_col5\" class=\"data row5 col5\" >1.00</td>\n",
       "      <td id=\"T_285de_row5_col6\" class=\"data row5 col6\" >-0.12</td>\n",
       "      <td id=\"T_285de_row5_col7\" class=\"data row5 col7\" >0.57</td>\n",
       "      <td id=\"T_285de_row5_col8\" class=\"data row5 col8\" >-0.05</td>\n",
       "      <td id=\"T_285de_row5_col9\" class=\"data row5 col9\" >-0.02</td>\n",
       "      <td id=\"T_285de_row5_col10\" class=\"data row5 col10\" >-0.01</td>\n",
       "      <td id=\"T_285de_row5_col11\" class=\"data row5 col11\" >-0.00</td>\n",
       "    </tr>\n",
       "    <tr>\n",
       "      <th id=\"T_285de_level0_row6\" class=\"row_heading level0 row6\" >CoapplicantIncome</th>\n",
       "      <td id=\"T_285de_row6_col0\" class=\"data row6 col0\" >-0.08</td>\n",
       "      <td id=\"T_285de_row6_col1\" class=\"data row6 col1\" >-0.08</td>\n",
       "      <td id=\"T_285de_row6_col2\" class=\"data row6 col2\" >0.03</td>\n",
       "      <td id=\"T_285de_row6_col3\" class=\"data row6 col3\" >-0.06</td>\n",
       "      <td id=\"T_285de_row6_col4\" class=\"data row6 col4\" >0.02</td>\n",
       "      <td id=\"T_285de_row6_col5\" class=\"data row6 col5\" >-0.12</td>\n",
       "      <td id=\"T_285de_row6_col6\" class=\"data row6 col6\" >1.00</td>\n",
       "      <td id=\"T_285de_row6_col7\" class=\"data row6 col7\" >0.19</td>\n",
       "      <td id=\"T_285de_row6_col8\" class=\"data row6 col8\" >-0.06</td>\n",
       "      <td id=\"T_285de_row6_col9\" class=\"data row6 col9\" >0.01</td>\n",
       "      <td id=\"T_285de_row6_col10\" class=\"data row6 col10\" >0.01</td>\n",
       "      <td id=\"T_285de_row6_col11\" class=\"data row6 col11\" >-0.06</td>\n",
       "    </tr>\n",
       "    <tr>\n",
       "      <th id=\"T_285de_level0_row7\" class=\"row_heading level0 row7\" >LoanAmount</th>\n",
       "      <td id=\"T_285de_row7_col0\" class=\"data row7 col0\" >-0.11</td>\n",
       "      <td id=\"T_285de_row7_col1\" class=\"data row7 col1\" >-0.15</td>\n",
       "      <td id=\"T_285de_row7_col2\" class=\"data row7 col2\" >0.16</td>\n",
       "      <td id=\"T_285de_row7_col3\" class=\"data row7 col3\" >-0.17</td>\n",
       "      <td id=\"T_285de_row7_col4\" class=\"data row7 col4\" >-0.12</td>\n",
       "      <td id=\"T_285de_row7_col5\" class=\"data row7 col5\" >0.57</td>\n",
       "      <td id=\"T_285de_row7_col6\" class=\"data row7 col6\" >0.19</td>\n",
       "      <td id=\"T_285de_row7_col7\" class=\"data row7 col7\" >1.00</td>\n",
       "      <td id=\"T_285de_row7_col8\" class=\"data row7 col8\" >0.04</td>\n",
       "      <td id=\"T_285de_row7_col9\" class=\"data row7 col9\" >-0.00</td>\n",
       "      <td id=\"T_285de_row7_col10\" class=\"data row7 col10\" >-0.05</td>\n",
       "      <td id=\"T_285de_row7_col11\" class=\"data row7 col11\" >-0.03</td>\n",
       "    </tr>\n",
       "    <tr>\n",
       "      <th id=\"T_285de_level0_row8\" class=\"row_heading level0 row8\" >Loan_Amount_Term</th>\n",
       "      <td id=\"T_285de_row8_col0\" class=\"data row8 col0\" >0.07</td>\n",
       "      <td id=\"T_285de_row8_col1\" class=\"data row8 col1\" >0.10</td>\n",
       "      <td id=\"T_285de_row8_col2\" class=\"data row8 col2\" >-0.10</td>\n",
       "      <td id=\"T_285de_row8_col3\" class=\"data row8 col3\" >-0.07</td>\n",
       "      <td id=\"T_285de_row8_col4\" class=\"data row8 col4\" >0.03</td>\n",
       "      <td id=\"T_285de_row8_col5\" class=\"data row8 col5\" >-0.05</td>\n",
       "      <td id=\"T_285de_row8_col6\" class=\"data row8 col6\" >-0.06</td>\n",
       "      <td id=\"T_285de_row8_col7\" class=\"data row8 col7\" >0.04</td>\n",
       "      <td id=\"T_285de_row8_col8\" class=\"data row8 col8\" >1.00</td>\n",
       "      <td id=\"T_285de_row8_col9\" class=\"data row8 col9\" >-0.00</td>\n",
       "      <td id=\"T_285de_row8_col10\" class=\"data row8 col10\" >-0.08</td>\n",
       "      <td id=\"T_285de_row8_col11\" class=\"data row8 col11\" >-0.02</td>\n",
       "    </tr>\n",
       "    <tr>\n",
       "      <th id=\"T_285de_level0_row9\" class=\"row_heading level0 row9\" >Credit_History</th>\n",
       "      <td id=\"T_285de_row9_col0\" class=\"data row9 col0\" >-0.01</td>\n",
       "      <td id=\"T_285de_row9_col1\" class=\"data row9 col1\" >-0.01</td>\n",
       "      <td id=\"T_285de_row9_col2\" class=\"data row9 col2\" >-0.04</td>\n",
       "      <td id=\"T_285de_row9_col3\" class=\"data row9 col3\" >-0.07</td>\n",
       "      <td id=\"T_285de_row9_col4\" class=\"data row9 col4\" >0.00</td>\n",
       "      <td id=\"T_285de_row9_col5\" class=\"data row9 col5\" >-0.02</td>\n",
       "      <td id=\"T_285de_row9_col6\" class=\"data row9 col6\" >0.01</td>\n",
       "      <td id=\"T_285de_row9_col7\" class=\"data row9 col7\" >-0.00</td>\n",
       "      <td id=\"T_285de_row9_col8\" class=\"data row9 col8\" >-0.00</td>\n",
       "      <td id=\"T_285de_row9_col9\" class=\"data row9 col9\" >1.00</td>\n",
       "      <td id=\"T_285de_row9_col10\" class=\"data row9 col10\" >0.00</td>\n",
       "      <td id=\"T_285de_row9_col11\" class=\"data row9 col11\" >0.54</td>\n",
       "    </tr>\n",
       "    <tr>\n",
       "      <th id=\"T_285de_level0_row10\" class=\"row_heading level0 row10\" >Property_Area</th>\n",
       "      <td id=\"T_285de_row10_col0\" class=\"data row10 col0\" >0.03</td>\n",
       "      <td id=\"T_285de_row10_col1\" class=\"data row10 col1\" >-0.00</td>\n",
       "      <td id=\"T_285de_row10_col2\" class=\"data row10 col2\" >-0.00</td>\n",
       "      <td id=\"T_285de_row10_col3\" class=\"data row10 col3\" >-0.07</td>\n",
       "      <td id=\"T_285de_row10_col4\" class=\"data row10 col4\" >0.03</td>\n",
       "      <td id=\"T_285de_row10_col5\" class=\"data row10 col5\" >-0.01</td>\n",
       "      <td id=\"T_285de_row10_col6\" class=\"data row10 col6\" >0.01</td>\n",
       "      <td id=\"T_285de_row10_col7\" class=\"data row10 col7\" >-0.05</td>\n",
       "      <td id=\"T_285de_row10_col8\" class=\"data row10 col8\" >-0.08</td>\n",
       "      <td id=\"T_285de_row10_col9\" class=\"data row10 col9\" >0.00</td>\n",
       "      <td id=\"T_285de_row10_col10\" class=\"data row10 col10\" >1.00</td>\n",
       "      <td id=\"T_285de_row10_col11\" class=\"data row10 col11\" >0.03</td>\n",
       "    </tr>\n",
       "    <tr>\n",
       "      <th id=\"T_285de_level0_row11\" class=\"row_heading level0 row11\" >Loan_Status</th>\n",
       "      <td id=\"T_285de_row11_col0\" class=\"data row11 col0\" >-0.02</td>\n",
       "      <td id=\"T_285de_row11_col1\" class=\"data row11 col1\" >-0.09</td>\n",
       "      <td id=\"T_285de_row11_col2\" class=\"data row11 col2\" >0.01</td>\n",
       "      <td id=\"T_285de_row11_col3\" class=\"data row11 col3\" >-0.09</td>\n",
       "      <td id=\"T_285de_row11_col4\" class=\"data row11 col4\" >0.00</td>\n",
       "      <td id=\"T_285de_row11_col5\" class=\"data row11 col5\" >-0.00</td>\n",
       "      <td id=\"T_285de_row11_col6\" class=\"data row11 col6\" >-0.06</td>\n",
       "      <td id=\"T_285de_row11_col7\" class=\"data row11 col7\" >-0.03</td>\n",
       "      <td id=\"T_285de_row11_col8\" class=\"data row11 col8\" >-0.02</td>\n",
       "      <td id=\"T_285de_row11_col9\" class=\"data row11 col9\" >0.54</td>\n",
       "      <td id=\"T_285de_row11_col10\" class=\"data row11 col10\" >0.03</td>\n",
       "      <td id=\"T_285de_row11_col11\" class=\"data row11 col11\" >1.00</td>\n",
       "    </tr>\n",
       "  </tbody>\n",
       "</table>\n"
      ],
      "text/plain": [
       "<pandas.io.formats.style.Styler at 0x19f213b4df0>"
      ]
     },
     "execution_count": 70,
     "metadata": {},
     "output_type": "execute_result"
    }
   ],
   "source": [
    "corr = tr_df.corr()\n",
    "corr.style.background_gradient(cmap = \"coolwarm\").set_precision(2)"
   ]
  },
  {
   "cell_type": "markdown",
   "id": "c714429b",
   "metadata": {},
   "source": [
    "### Modelling "
   ]
  },
  {
   "cell_type": "code",
   "execution_count": 71,
   "id": "e31e0587",
   "metadata": {},
   "outputs": [],
   "source": [
    "y = tr_df['Loan_Status']\n",
    "X = tr_df.drop('Loan_Status', axis = 1)\n",
    "X_train, X_test, y_train, y_test = train_test_split(X, y, test_size=0.3,random_state = 42)"
   ]
  },
  {
   "cell_type": "code",
   "execution_count": 74,
   "id": "05e1ff84",
   "metadata": {},
   "outputs": [],
   "source": [
    "from sklearn.metrics import f1_score"
   ]
  },
  {
   "cell_type": "code",
   "execution_count": 76,
   "id": "4e2cf7bc",
   "metadata": {},
   "outputs": [],
   "source": [
    "def get_classification_report(actual, predicted):\n",
    "    print(\"Classification Report: \\n\")\n",
    "    print(classification_report(actual, predicted))\n",
    "    print(\"Accuracy : {}\".format(accuracy_score(actual, predicted)))\n",
    "    f1score = f1_score(actual, predicted)\n",
    "    print(\"F1: {}\".format(f1score))\n",
    "    return f1score"
   ]
  },
  {
   "cell_type": "code",
   "execution_count": 77,
   "id": "0d6db6b9",
   "metadata": {},
   "outputs": [
    {
     "name": "stdout",
     "output_type": "stream",
     "text": [
      "Classification Report: \n",
      "\n",
      "              precision    recall  f1-score   support\n",
      "\n",
      "           0       0.51      0.54      0.52        65\n",
      "           1       0.74      0.72      0.73       120\n",
      "\n",
      "    accuracy                           0.65       185\n",
      "   macro avg       0.62      0.63      0.63       185\n",
      "weighted avg       0.66      0.65      0.66       185\n",
      "\n",
      "Accuracy : 0.654054054054054\n",
      "F1: 0.728813559322034\n"
     ]
    }
   ],
   "source": [
    "dt = DecisionTreeClassifier()\n",
    "dt.fit(X_train, y_train)\n",
    "y_predict = dt.predict(X_test)\n",
    "dt_f1 = get_classification_report(y_test, y_predict)"
   ]
  },
  {
   "cell_type": "code",
   "execution_count": 78,
   "id": "f056ffce",
   "metadata": {},
   "outputs": [
    {
     "name": "stdout",
     "output_type": "stream",
     "text": [
      "Classification Report: \n",
      "\n",
      "              precision    recall  f1-score   support\n",
      "\n",
      "           0       0.82      0.51      0.63        65\n",
      "           1       0.78      0.94      0.85       120\n",
      "\n",
      "    accuracy                           0.79       185\n",
      "   macro avg       0.80      0.72      0.74       185\n",
      "weighted avg       0.80      0.79      0.77       185\n",
      "\n",
      "Accuracy : 0.7891891891891892\n",
      "F1: 0.8528301886792453\n"
     ]
    }
   ],
   "source": [
    "rf = RandomForestClassifier()\n",
    "rf.fit(X_train, y_train)\n",
    "y_predict = rf.predict(X_test)\n",
    "rf_f1 = get_classification_report(y_test, y_predict)"
   ]
  },
  {
   "cell_type": "code",
   "execution_count": 79,
   "id": "b1e33f40",
   "metadata": {},
   "outputs": [
    {
     "name": "stdout",
     "output_type": "stream",
     "text": [
      "Classification Report: \n",
      "\n",
      "              precision    recall  f1-score   support\n",
      "\n",
      "           0       0.70      0.48      0.57        65\n",
      "           1       0.76      0.89      0.82       120\n",
      "\n",
      "    accuracy                           0.75       185\n",
      "   macro avg       0.73      0.68      0.69       185\n",
      "weighted avg       0.74      0.75      0.73       185\n",
      "\n",
      "Accuracy : 0.745945945945946\n",
      "F1: 0.8199233716475095\n"
     ]
    }
   ],
   "source": [
    "xgb = XGBClassifier()\n",
    "xgb.fit(X_train, y_train)\n",
    "y_predict = xgb.predict(X_test)\n",
    "xgb_f1 = get_classification_report(y_test, y_predict)"
   ]
  },
  {
   "cell_type": "code",
   "execution_count": 80,
   "id": "c431a95d",
   "metadata": {},
   "outputs": [
    {
     "name": "stdout",
     "output_type": "stream",
     "text": [
      "Classification Report: \n",
      "\n",
      "              precision    recall  f1-score   support\n",
      "\n",
      "           0       0.88      0.43      0.58        65\n",
      "           1       0.76      0.97      0.85       120\n",
      "\n",
      "    accuracy                           0.78       185\n",
      "   macro avg       0.82      0.70      0.71       185\n",
      "weighted avg       0.80      0.78      0.75       185\n",
      "\n",
      "Accuracy : 0.7783783783783784\n",
      "F1: 0.8498168498168498\n"
     ]
    },
    {
     "name": "stderr",
     "output_type": "stream",
     "text": [
      "C:\\Users\\aakashgoel\\Anaconda3\\envs\\conda_env_1\\lib\\site-packages\\sklearn\\linear_model\\_logistic.py:444: ConvergenceWarning: lbfgs failed to converge (status=1):\n",
      "STOP: TOTAL NO. of ITERATIONS REACHED LIMIT.\n",
      "\n",
      "Increase the number of iterations (max_iter) or scale the data as shown in:\n",
      "    https://scikit-learn.org/stable/modules/preprocessing.html\n",
      "Please also refer to the documentation for alternative solver options:\n",
      "    https://scikit-learn.org/stable/modules/linear_model.html#logistic-regression\n",
      "  n_iter_i = _check_optimize_result(\n"
     ]
    }
   ],
   "source": [
    "lr = LogisticRegression()\n",
    "lr.fit(X_train, y_train)\n",
    "y_predict = lr.predict(X_test)\n",
    "lr_f1 = get_classification_report(y_test, y_predict)"
   ]
  },
  {
   "cell_type": "code",
   "execution_count": 81,
   "id": "cc53cc18",
   "metadata": {},
   "outputs": [
    {
     "name": "stdout",
     "output_type": "stream",
     "text": [
      "Classification Report: \n",
      "\n",
      "              precision    recall  f1-score   support\n",
      "\n",
      "           0       0.00      0.00      0.00        65\n",
      "           1       0.65      1.00      0.79       120\n",
      "\n",
      "    accuracy                           0.65       185\n",
      "   macro avg       0.32      0.50      0.39       185\n",
      "weighted avg       0.42      0.65      0.51       185\n",
      "\n",
      "Accuracy : 0.6486486486486487\n",
      "F1: 0.7868852459016393\n"
     ]
    },
    {
     "name": "stderr",
     "output_type": "stream",
     "text": [
      "C:\\Users\\aakashgoel\\Anaconda3\\envs\\conda_env_1\\lib\\site-packages\\sklearn\\metrics\\_classification.py:1327: UndefinedMetricWarning: Precision and F-score are ill-defined and being set to 0.0 in labels with no predicted samples. Use `zero_division` parameter to control this behavior.\n",
      "  _warn_prf(average, modifier, msg_start, len(result))\n",
      "C:\\Users\\aakashgoel\\Anaconda3\\envs\\conda_env_1\\lib\\site-packages\\sklearn\\metrics\\_classification.py:1327: UndefinedMetricWarning: Precision and F-score are ill-defined and being set to 0.0 in labels with no predicted samples. Use `zero_division` parameter to control this behavior.\n",
      "  _warn_prf(average, modifier, msg_start, len(result))\n",
      "C:\\Users\\aakashgoel\\Anaconda3\\envs\\conda_env_1\\lib\\site-packages\\sklearn\\metrics\\_classification.py:1327: UndefinedMetricWarning: Precision and F-score are ill-defined and being set to 0.0 in labels with no predicted samples. Use `zero_division` parameter to control this behavior.\n",
      "  _warn_prf(average, modifier, msg_start, len(result))\n"
     ]
    }
   ],
   "source": [
    "svm_model = svm.SVC()\n",
    "svm_model.fit(X_train, y_train)\n",
    "y_predict = svm_model.predict(X_test)\n",
    "svm_f1 = get_classification_report(y_test, y_predict)"
   ]
  },
  {
   "cell_type": "code",
   "execution_count": 82,
   "id": "ca029591",
   "metadata": {},
   "outputs": [
    {
     "name": "stdout",
     "output_type": "stream",
     "text": [
      "Classification Report: \n",
      "\n",
      "              precision    recall  f1-score   support\n",
      "\n",
      "           0       0.88      0.45      0.59        65\n",
      "           1       0.76      0.97      0.85       120\n",
      "\n",
      "    accuracy                           0.78       185\n",
      "   macro avg       0.82      0.71      0.72       185\n",
      "weighted avg       0.80      0.78      0.76       185\n",
      "\n",
      "Accuracy : 0.7837837837837838\n",
      "F1: 0.8529411764705883\n"
     ]
    }
   ],
   "source": [
    "nb = GaussianNB()\n",
    "nb.fit(X_train, y_train)\n",
    "y_predict = nb.predict(X_test)\n",
    "nb_f1 = get_classification_report(y_test, y_predict)"
   ]
  },
  {
   "cell_type": "code",
   "execution_count": 83,
   "id": "6cba0c21",
   "metadata": {},
   "outputs": [
    {
     "name": "stdout",
     "output_type": "stream",
     "text": [
      "Classification Report: \n",
      "\n",
      "              precision    recall  f1-score   support\n",
      "\n",
      "           0       0.81      0.38      0.52        65\n",
      "           1       0.74      0.95      0.83       120\n",
      "\n",
      "    accuracy                           0.75       185\n",
      "   macro avg       0.77      0.67      0.68       185\n",
      "weighted avg       0.76      0.75      0.72       185\n",
      "\n",
      "Accuracy : 0.7513513513513513\n",
      "F1: 0.8321167883211679\n"
     ]
    }
   ],
   "source": [
    "gb = GradientBoostingClassifier()\n",
    "gb.fit(X_train, y_train)\n",
    "y_predict = gb.predict(X_test)\n",
    "gb_f1 = get_classification_report(y_test, y_predict)"
   ]
  },
  {
   "cell_type": "code",
   "execution_count": 84,
   "id": "6adbf62c",
   "metadata": {},
   "outputs": [
    {
     "name": "stdout",
     "output_type": "stream",
     "text": [
      "Classification Report: \n",
      "\n",
      "              precision    recall  f1-score   support\n",
      "\n",
      "           0       0.35      0.17      0.23        65\n",
      "           1       0.65      0.83      0.73       120\n",
      "\n",
      "    accuracy                           0.60       185\n",
      "   macro avg       0.50      0.50      0.48       185\n",
      "weighted avg       0.55      0.60      0.55       185\n",
      "\n",
      "Accuracy : 0.6\n",
      "F1: 0.72992700729927\n"
     ]
    }
   ],
   "source": [
    "knn = KNeighborsClassifier(n_neighbors=3)\n",
    "knn.fit(X_train, y_train)\n",
    "y_predict = knn.predict(X_test)\n",
    "knn_f1 = get_classification_report(y_test, y_predict)"
   ]
  },
  {
   "cell_type": "markdown",
   "id": "7602789c",
   "metadata": {},
   "source": [
    "### Conclude/Compare"
   ]
  },
  {
   "cell_type": "code",
   "execution_count": 85,
   "id": "79d1c3bf",
   "metadata": {},
   "outputs": [
    {
     "data": {
      "text/html": [
       "<div>\n",
       "<style scoped>\n",
       "    .dataframe tbody tr th:only-of-type {\n",
       "        vertical-align: middle;\n",
       "    }\n",
       "\n",
       "    .dataframe tbody tr th {\n",
       "        vertical-align: top;\n",
       "    }\n",
       "\n",
       "    .dataframe thead th {\n",
       "        text-align: right;\n",
       "    }\n",
       "</style>\n",
       "<table border=\"1\" class=\"dataframe\">\n",
       "  <thead>\n",
       "    <tr style=\"text-align: right;\">\n",
       "      <th></th>\n",
       "      <th>Models</th>\n",
       "      <th>F1</th>\n",
       "    </tr>\n",
       "  </thead>\n",
       "  <tbody>\n",
       "    <tr>\n",
       "      <th>0</th>\n",
       "      <td>NB</td>\n",
       "      <td>0.852941</td>\n",
       "    </tr>\n",
       "    <tr>\n",
       "      <th>1</th>\n",
       "      <td>LR</td>\n",
       "      <td>0.849817</td>\n",
       "    </tr>\n",
       "    <tr>\n",
       "      <th>2</th>\n",
       "      <td>KNN</td>\n",
       "      <td>0.729927</td>\n",
       "    </tr>\n",
       "    <tr>\n",
       "      <th>3</th>\n",
       "      <td>SVM</td>\n",
       "      <td>0.786885</td>\n",
       "    </tr>\n",
       "    <tr>\n",
       "      <th>4</th>\n",
       "      <td>DT</td>\n",
       "      <td>0.728814</td>\n",
       "    </tr>\n",
       "    <tr>\n",
       "      <th>5</th>\n",
       "      <td>RF</td>\n",
       "      <td>0.852830</td>\n",
       "    </tr>\n",
       "    <tr>\n",
       "      <th>6</th>\n",
       "      <td>GB</td>\n",
       "      <td>0.832117</td>\n",
       "    </tr>\n",
       "    <tr>\n",
       "      <th>7</th>\n",
       "      <td>XGB</td>\n",
       "      <td>0.819923</td>\n",
       "    </tr>\n",
       "  </tbody>\n",
       "</table>\n",
       "</div>"
      ],
      "text/plain": [
       "  Models        F1\n",
       "0     NB  0.852941\n",
       "1     LR  0.849817\n",
       "2    KNN  0.729927\n",
       "3    SVM  0.786885\n",
       "4     DT  0.728814\n",
       "5     RF  0.852830\n",
       "6     GB  0.832117\n",
       "7    XGB  0.819923"
      ]
     },
     "execution_count": 85,
     "metadata": {},
     "output_type": "execute_result"
    }
   ],
   "source": [
    "models = pd.DataFrame({\"Models\":[\"NB\",\"LR\",\"KNN\",\"SVM\",\"DT\",\"RF\",\"GB\",\"XGB\"],\\\n",
    "                      \"F1\":[nb_f1,lr_f1,knn_f1,svm_f1,dt_f1,rf_f1,gb_f1,xgb_f1]})\n",
    "models"
   ]
  },
  {
   "cell_type": "code",
   "execution_count": 86,
   "id": "223ab120",
   "metadata": {},
   "outputs": [
    {
     "data": {
      "text/html": [
       "<div>\n",
       "<style scoped>\n",
       "    .dataframe tbody tr th:only-of-type {\n",
       "        vertical-align: middle;\n",
       "    }\n",
       "\n",
       "    .dataframe tbody tr th {\n",
       "        vertical-align: top;\n",
       "    }\n",
       "\n",
       "    .dataframe thead th {\n",
       "        text-align: right;\n",
       "    }\n",
       "</style>\n",
       "<table border=\"1\" class=\"dataframe\">\n",
       "  <thead>\n",
       "    <tr style=\"text-align: right;\">\n",
       "      <th></th>\n",
       "      <th>Models</th>\n",
       "      <th>F1</th>\n",
       "    </tr>\n",
       "  </thead>\n",
       "  <tbody>\n",
       "    <tr>\n",
       "      <th>0</th>\n",
       "      <td>NB</td>\n",
       "      <td>0.852941</td>\n",
       "    </tr>\n",
       "    <tr>\n",
       "      <th>5</th>\n",
       "      <td>RF</td>\n",
       "      <td>0.852830</td>\n",
       "    </tr>\n",
       "    <tr>\n",
       "      <th>1</th>\n",
       "      <td>LR</td>\n",
       "      <td>0.849817</td>\n",
       "    </tr>\n",
       "    <tr>\n",
       "      <th>6</th>\n",
       "      <td>GB</td>\n",
       "      <td>0.832117</td>\n",
       "    </tr>\n",
       "    <tr>\n",
       "      <th>7</th>\n",
       "      <td>XGB</td>\n",
       "      <td>0.819923</td>\n",
       "    </tr>\n",
       "    <tr>\n",
       "      <th>3</th>\n",
       "      <td>SVM</td>\n",
       "      <td>0.786885</td>\n",
       "    </tr>\n",
       "    <tr>\n",
       "      <th>2</th>\n",
       "      <td>KNN</td>\n",
       "      <td>0.729927</td>\n",
       "    </tr>\n",
       "    <tr>\n",
       "      <th>4</th>\n",
       "      <td>DT</td>\n",
       "      <td>0.728814</td>\n",
       "    </tr>\n",
       "  </tbody>\n",
       "</table>\n",
       "</div>"
      ],
      "text/plain": [
       "  Models        F1\n",
       "0     NB  0.852941\n",
       "5     RF  0.852830\n",
       "1     LR  0.849817\n",
       "6     GB  0.832117\n",
       "7    XGB  0.819923\n",
       "3    SVM  0.786885\n",
       "2    KNN  0.729927\n",
       "4     DT  0.728814"
      ]
     },
     "execution_count": 86,
     "metadata": {},
     "output_type": "execute_result"
    }
   ],
   "source": [
    "models.sort_values(by='F1',ascending=False)"
   ]
  }
 ],
 "metadata": {
  "kernelspec": {
   "display_name": "Python 3 (ipykernel)",
   "language": "python",
   "name": "python3"
  },
  "language_info": {
   "codemirror_mode": {
    "name": "ipython",
    "version": 3
   },
   "file_extension": ".py",
   "mimetype": "text/x-python",
   "name": "python",
   "nbconvert_exporter": "python",
   "pygments_lexer": "ipython3",
   "version": "3.8.13"
  }
 },
 "nbformat": 4,
 "nbformat_minor": 5
}
